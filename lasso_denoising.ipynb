{
 "cells": [
  {
   "cell_type": "code",
   "execution_count": null,
   "id": "1e2bac20",
   "metadata": {},
   "outputs": [],
   "source": [
    "import scipy.ndimage\n",
    "from numpy.linalg import norm\n",
    "import pandas as pd\n",
    "%pylab inline\n",
    "%load_ext autoreload\n",
    "%autoreload 2"
   ]
  },
  {
   "cell_type": "code",
   "execution_count": null,
   "id": "ee8602cb",
   "metadata": {},
   "outputs": [],
   "source": [
    "random.seed(100)\n",
    "\n",
    "d = 1024\n",
    "s = 16 # number of nonzero elements of xsharp\n",
    "std = 0.1\n",
    "\n",
    "def training_set(n):\n",
    "    x_train = zeros((d, n))\n",
    "    idx = random.permutation(d)\n",
    "    for i in range(n):\n",
    "        sel = random.permutation(d)\n",
    "        sel = sel[0 : s]   # indices of the nonzero elements of xsharp\n",
    "        xsharp = zeros(d)\n",
    "        xsharp[sel] = sign(randn(s)) * (1 - 0.3 * rand(s))\n",
    "        x_train[:, i] = xsharp / norm(xsharp, ord=2)\n",
    "    eps_train = np.zeros((d, n))\n",
    "    for i in range(n):\n",
    "        eps_train[:, i] = random.normal(0, std, d)\n",
    "        \n",
    "    y_train = x_train + eps_train\n",
    "    return x_train, y_train\n",
    "\n",
    "N_train = 10000\n",
    "x_train, y_train = training_set(N_train)  # every element is in a column"
   ]
  },
  {
   "cell_type": "code",
   "execution_count": null,
   "id": "8cc7d53f",
   "metadata": {},
   "outputs": [],
   "source": [
    "fig, (ax_orig, ax_filtered) = plt.subplots(2, 1, sharex=True, figsize=(20, 10), dpi=100)\n",
    "ax_orig.stem(x_train[:, 0])\n",
    "ax_orig.set_title('Original pulse')\n",
    "ax_orig.set_xlim(0, d - 1)\n",
    "ax_orig.tick_params(axis='y', labelsize=15)\n",
    "\n",
    "ax_filtered.stem(y_train[:, 0])\n",
    "ax_filtered.set_title('Noisy signal')\n",
    "ax_filtered.margins(0, 0.1)\n",
    "ax_filtered.tick_params(axis='y', labelsize=15)\n",
    "\n",
    "plt.xticks(fontsize=15)\n",
    "plt.savefig(\"./noisy_sparse_signal.pdf\", bbox_inches='tight')\n",
    "plt.tight_layout()\n",
    "plt.show()"
   ]
  },
  {
   "cell_type": "code",
   "execution_count": null,
   "id": "5bb714ee",
   "metadata": {},
   "outputs": [],
   "source": [
    " #Denoising functions"
   ]
  },
  {
   "cell_type": "code",
   "execution_count": null,
   "id": "00dd395c",
   "metadata": {},
   "outputs": [],
   "source": [
    "# We compute here D_||.||_1(x, y). Inputs vectors, outputs number\n",
    "def breg_dist_l1(x, y):\n",
    "    return norm(x, ord=1) - norm(y, ord=1) - dot(sign(y), x - y)\n",
    "\n",
    "    \n",
    "# soft thresholding function here:\n",
    "def st(x, Lambda):\n",
    "    return clip(x, -Lambda, Lambda)\n",
    "\n",
    "def train_l1(la):  # lamb is a number here\n",
    "    distances = zeros(N_train)\n",
    "    f_lasso = array([st(y, la) for y in y_train.T])\n",
    "    for i in range(N_train):\n",
    "        distances[i] = breg_dist_l1(x_train[:, i], f_lasso[i])\n",
    "    return average(distances)\n",
    "\n",
    "\n",
    "def train_l1n(n, la):  # lamb is a number here\n",
    "    x_tr, y_tr = training_set(n)\n",
    "    distances = zeros(n)\n",
    "    f_lasso = np.array([st(y, la) for y in y_tr.T])\n",
    "    for i in range(n):\n",
    "        distances[i] = breg_dist_l1(x_tr[:, i], f_lasso[i])\n",
    "    return average(distances)\n",
    "\n",
    "\n",
    "def cvlambda(n, lamb):  # here lambda is a vector\n",
    "    l1_err = np.array([train_l1n(n, l) for l in lamb])\n",
    "    return l1_err.min(), lamb[argmin(l1_err)]\n",
    "\n",
    "\n",
    "def get_lambda_star(lamb):  # here lambda is a vector\n",
    "    l1_err = np.array([train_l1(l) for l in lamb])\n",
    "    return lamb[argmin(l1_err)], l1_err.min()\n",
    "\n",
    "\n",
    "def get_lambda_hat(L_star, la, Nvec, iters):  # here lamb is a vector\n",
    "    Deltan = zeros((len(Nvec), iters))\n",
    "    for i in range(len(Nvec)):\n",
    "        for j in range(iters):\n",
    "            Deltan[i, j] = abs(L_star - cvlambda(Nvec[i], la)[0])\n",
    "    return Deltan \n"
   ]
  },
  {
   "cell_type": "code",
   "execution_count": null,
   "id": "c4feeea5",
   "metadata": {},
   "outputs": [],
   "source": [
    "lamb = logspace(-4, 1, num=50)\n",
    "\n",
    "lambda_star, L_lambda_star = get_lambda_star(lamb)"
   ]
  },
  {
   "cell_type": "code",
   "execution_count": null,
   "id": "d57c0fe6",
   "metadata": {},
   "outputs": [],
   "source": [
    "lambda_star"
   ]
  },
  {
   "cell_type": "code",
   "execution_count": null,
   "id": "ed02664d",
   "metadata": {},
   "outputs": [],
   "source": [
    "# We plot here the ER plot"
   ]
  },
  {
   "cell_type": "code",
   "execution_count": null,
   "id": "819496ad",
   "metadata": {},
   "outputs": [],
   "source": [
    "N_vec = np.arange(10, 160, 10)\n",
    "n_it = 30  # The perfect number of iterations is 30\n",
    "\n",
    "Deltalasso = get_lambda_hat(L_lambda_star, lamb, N_vec, n_it)"
   ]
  },
  {
   "cell_type": "code",
   "execution_count": null,
   "id": "0828e45f",
   "metadata": {},
   "outputs": [],
   "source": [
    "Deltalasso = np.zeros(np.shape(deltalasso))\n",
    "for i in range(len(deltalasso)):\n",
    "    Deltalasso[i] = deltalasso[i] * N_vec[i]"
   ]
  },
  {
   "cell_type": "code",
   "execution_count": null,
   "id": "21d182d1",
   "metadata": {},
   "outputs": [],
   "source": [
    "dflasso = pd.DataFrame(Deltalasso)\n",
    "meanlasso = dflasso.mean(axis='columns') \n",
    "lowerlasso = np.quantile(Deltalasso, 0.05, axis=1)\n",
    "upperlasso = np.quantile(Deltalasso, 0.95, axis=1)\n",
    "\n",
    "# Figures\n",
    "\n",
    "plt.close('all')\n",
    "fig, ax1 = plt.subplots(figsize=(20, 5), dpi=300)\n",
    "ax1.plot(N_vec, meanlasso, '-', label='Lasso')\n",
    "ax1.scatter(N_vec, meanlasso, color='red', s=50) \n",
    "ax1.fill_between(N_vec, lowerlasso, upperlasso, alpha=0.2)\n",
    "ax1.set_ylabel(r'$\\Delta(n)$', fontsize=25)\n",
    "ax1.set_xlabel(r'$n$', fontsize=25)\n",
    "plt.xticks(fontsize=20)\n",
    "plt.yticks(fontsize=20)\n",
    "plt.savefig(\"./ER_lasso_denoising.pdf\", bbox_inches='tight')  # This shud go before show\n",
    "plt.show(block=False)"
   ]
  },
  {
   "cell_type": "code",
   "execution_count": null,
   "id": "c8e5a33b",
   "metadata": {},
   "outputs": [],
   "source": []
  }
 ],
 "metadata": {
  "kernelspec": {
   "display_name": "Python 3 (ipykernel)",
   "language": "python",
   "name": "python3"
  },
  "language_info": {
   "codemirror_mode": {
    "name": "ipython",
    "version": 3
   },
   "file_extension": ".py",
   "mimetype": "text/x-python",
   "name": "python",
   "nbconvert_exporter": "python",
   "pygments_lexer": "ipython3",
   "version": "3.11.5"
  }
 },
 "nbformat": 4,
 "nbformat_minor": 5
}
